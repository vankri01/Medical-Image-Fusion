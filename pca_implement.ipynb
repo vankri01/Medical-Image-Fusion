{
 "cells": [
  {
   "cell_type": "code",
   "execution_count": 1,
   "id": "a6072727",
   "metadata": {
    "_cell_guid": "b1076dfc-b9ad-4769-8c92-a6c4dae69d19",
    "_uuid": "8f2839f25d086af736a60e9eeb907d3b93b6e0e5",
    "execution": {
     "iopub.execute_input": "2024-11-13T14:42:12.762423Z",
     "iopub.status.busy": "2024-11-13T14:42:12.761959Z",
     "iopub.status.idle": "2024-11-13T14:42:15.446885Z",
     "shell.execute_reply": "2024-11-13T14:42:15.445432Z"
    },
    "papermill": {
     "duration": 2.694089,
     "end_time": "2024-11-13T14:42:15.451666",
     "exception": false,
     "start_time": "2024-11-13T14:42:12.757577",
     "status": "completed"
    },
    "tags": []
   },
   "outputs": [
    {
     "name": "stdout",
     "output_type": "stream",
     "text": [
      "/kaggle/input/ct-and-mri/ct_final.png\n",
      "/kaggle/input/ct-and-mri/mri_final.png\n",
      "['ct_final.png', 'mri_final.png']\n",
      "MSE between MRI and fused image: 111.705322265625\n",
      "PSNR between MRI and fused image: 27.650064950439166 dB\n"
     ]
    },
    {
     "data": {
      "text/plain": [
       "True"
      ]
     },
     "execution_count": 1,
     "metadata": {},
     "output_type": "execute_result"
    }
   ],
   "source": [
    "# This Python 3 environment comes with many helpful analytics libraries installed\n",
    "# It is defined by the kaggle/python Docker image: https://github.com/kaggle/docker-python\n",
    "# For example, here's several helpful packages to load\n",
    "\n",
    "import numpy as np # linear algebra\n",
    "import pandas as pd # data processing, CSV file I/O (e.g. pd.read_csv)\n",
    "\n",
    "# Input data files are available in the read-only \"../input/\" directory\n",
    "# For example, running this (by clicking run or pressing Shift+Enter) will list all files under the input directory\n",
    "\n",
    "import os\n",
    "for dirname, _, filenames in os.walk('/kaggle/input'):\n",
    "    for filename in filenames:\n",
    "        print(os.path.join(dirname, filename))\n",
    "\n",
    "# You can write up to 20GB to the current directory (/kaggle/working/) that gets preserved as output when you create a version using \"Save & Run All\" \n",
    "# You can also write temporary files to /kaggle/temp/, but they won't be saved outside of the current session\n",
    "import cv2\n",
    "import numpy as np\n",
    "import pywt\n",
    "from sklearn.decomposition import PCA\n",
    "from math import log10, sqrt\n",
    "import os\n",
    "\n",
    "# List files in the dataset folder to confirm the correct paths\n",
    "dataset_path = '/kaggle/input/ct-and-mri/'\n",
    "print(os.listdir(dataset_path))  # This will print all files in the dataset directory\n",
    "\n",
    "# Load MRI and CT images (adjusted to correct paths)\n",
    "mri_image = cv2.imread(dataset_path + 'mri_final.png', cv2.IMREAD_GRAYSCALE)\n",
    "ct_image = cv2.imread(dataset_path + 'ct_final.png', cv2.IMREAD_GRAYSCALE)\n",
    "\n",
    "# Check if the images are loaded correctly\n",
    "if mri_image is None:\n",
    "    print(\"Error loading MRI image!\")\n",
    "if ct_image is None:\n",
    "    print(\"Error loading CT image!\")\n",
    "\n",
    "# Resize images if they are not the same size\n",
    "mri_image = cv2.resize(mri_image, (256, 256))\n",
    "ct_image = cv2.resize(ct_image, (256, 256))\n",
    "\n",
    "# Step 1: Apply DWT to both images\n",
    "def apply_dwt(image):\n",
    "    coeffs = pywt.dwt2(image, 'haar')\n",
    "    cA, (cH, cV, cD) = coeffs\n",
    "    return cA, (cH, cV, cD)\n",
    "\n",
    "mri_cA, (mri_cH, mri_cV, mri_cD) = apply_dwt(mri_image)\n",
    "ct_cA, (ct_cH, ct_cV, ct_cD) = apply_dwt(ct_image)\n",
    "\n",
    "# Step 2: Apply PCA on approximation coefficients to fuse them\n",
    "def fuse_pca(cA1, cA2):\n",
    "    pca = PCA(n_components=1)\n",
    "    combined = np.stack((cA1.flatten(), cA2.flatten()), axis=1)\n",
    "    pca_fused = pca.fit_transform(combined)\n",
    "    return pca_fused.reshape(cA1.shape)\n",
    "\n",
    "fused_cA = fuse_pca(mri_cA, ct_cA)\n",
    "\n",
    "# Fuse detail coefficients by averaging\n",
    "fused_cH = (mri_cH + ct_cH) / 2\n",
    "fused_cV = (mri_cV + ct_cV) / 2\n",
    "fused_cD = (mri_cD + ct_cD) / 2  # Step 3: Reconstruct the fused image using inverse DWT\n",
    "fused_coeffs = fused_cA, (fused_cH, fused_cV, fused_cD)\n",
    "fused_image = pywt.idwt2(fused_coeffs, 'haar')\n",
    "fused_image = np.uint8(fused_image)  # Convert to uint8 for display\n",
    "\n",
    "# Step 4: Calculate MSE\n",
    "def calculate_mse(original, fused):\n",
    "    mse = np.mean((original - fused) ** 2)\n",
    "    return mse\n",
    "\n",
    "mse_value = calculate_mse(mri_image, fused_image)\n",
    "\n",
    "# Step 5: Calculate PSNR\n",
    "def calculate_psnr(original, fused):\n",
    "    mse = calculate_mse(original, fused)\n",
    "    if mse == 0:\n",
    "        return 100\n",
    "    max_pixel = 255.0\n",
    "    psnr = 20 * log10(max_pixel / sqrt(mse))\n",
    "    return psnr\n",
    "\n",
    "psnr_value = calculate_psnr(mri_image, fused_image)\n",
    "\n",
    "# Display results\n",
    "print(f\"MSE between MRI and fused image: {mse_value}\")\n",
    "print(f\"PSNR between MRI and fused image: {psnr_value} dB\")\n",
    "\n",
    "# Save fused image if needed\n",
    "cv2.imwrite('/kaggle/working/fused_image.png', fused_image)\n",
    "\n",
    "\n",
    "\n",
    "\n",
    "\n",
    "\n",
    "\n",
    "\n",
    "\n",
    "\n",
    "\n",
    "\n",
    "\n",
    "\n",
    "\n"
   ]
  }
 ],
 "metadata": {
  "kaggle": {
   "accelerator": "none",
   "dataSources": [
    {
     "datasetId": 6073080,
     "sourceId": 9889006,
     "sourceType": "datasetVersion"
    }
   ],
   "dockerImageVersionId": 30786,
   "isGpuEnabled": false,
   "isInternetEnabled": false,
   "language": "python",
   "sourceType": "notebook"
  },
  "kernelspec": {
   "display_name": "Python 3",
   "language": "python",
   "name": "python3"
  },
  "language_info": {
   "codemirror_mode": {
    "name": "ipython",
    "version": 3
   },
   "file_extension": ".py",
   "mimetype": "text/x-python",
   "name": "python",
   "nbconvert_exporter": "python",
   "pygments_lexer": "ipython3",
   "version": "3.10.14"
  },
  "papermill": {
   "default_parameters": {},
   "duration": 6.189655,
   "end_time": "2024-11-13T14:42:16.085499",
   "environment_variables": {},
   "exception": null,
   "input_path": "__notebook__.ipynb",
   "output_path": "__notebook__.ipynb",
   "parameters": {},
   "start_time": "2024-11-13T14:42:09.895844",
   "version": "2.6.0"
  }
 },
 "nbformat": 4,
 "nbformat_minor": 5
}
