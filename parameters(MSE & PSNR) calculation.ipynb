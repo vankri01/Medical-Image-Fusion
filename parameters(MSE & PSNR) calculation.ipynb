{
 "cells": [
  {
   "cell_type": "code",
   "execution_count": 1,
   "id": "71a5a172",
   "metadata": {
    "_cell_guid": "b1076dfc-b9ad-4769-8c92-a6c4dae69d19",
    "_uuid": "8f2839f25d086af736a60e9eeb907d3b93b6e0e5",
    "execution": {
     "iopub.execute_input": "2024-11-13T14:46:17.535898Z",
     "iopub.status.busy": "2024-11-13T14:46:17.535469Z",
     "iopub.status.idle": "2024-11-13T14:46:18.891274Z",
     "shell.execute_reply": "2024-11-13T14:46:18.889917Z"
    },
    "papermill": {
     "duration": 1.362596,
     "end_time": "2024-11-13T14:46:18.894107",
     "exception": false,
     "start_time": "2024-11-13T14:46:17.531511",
     "status": "completed"
    },
    "tags": []
   },
   "outputs": [
    {
     "name": "stdout",
     "output_type": "stream",
     "text": [
      "/kaggle/input/cnn-output/final_fusion.png\n",
      "/kaggle/input/reference-image/mri_final.png\n",
      "MSE: 105.13777160644531\n",
      "PSNR: 27.91321592953245 dB\n"
     ]
    }
   ],
   "source": [
    "# This Python 3 environment comes with many helpful analytics libraries installed\n",
    "# It is defined by the kaggle/python Docker image: https://github.com/kaggle/docker-python\n",
    "# For example, here's several helpful packages to load\n",
    "\n",
    "import numpy as np # linear algebra\n",
    "import pandas as pd # data processing, CSV file I/O (e.g. pd.read_csv)\n",
    "\n",
    "# Input data files are available in the read-only \"../input/\" directory\n",
    "# For example, running this (by clicking run or pressing Shift+Enter) will list all files under the input directory\n",
    "\n",
    "import os\n",
    "for dirname, _, filenames in os.walk('/kaggle/input'):\n",
    "    for filename in filenames:\n",
    "        print(os.path.join(dirname, filename))\n",
    "\n",
    "# You can write up to 20GB to the current directory (/kaggle/working/) that gets preserved as output when you create a version using \"Save & Run All\" \n",
    "# You can also write temporary files to /kaggle/temp/, but they won't be saved outside of the current session\n",
    "import cv2\n",
    "import numpy as np\n",
    "\n",
    "# Set the paths to your images\n",
    "fused_image_path = '/kaggle/input/cnn-output/final_fusion.png'  # path to fused image\n",
    "reference_image_path = '/kaggle/input/reference-image/mri_final.png'  # path to MRI or CT image\n",
    "\n",
    "# Load images\n",
    "fused_image = cv2.imread(fused_image_path, cv2.IMREAD_GRAYSCALE)\n",
    "reference_image = cv2.imread(reference_image_path, cv2.IMREAD_GRAYSCALE)\n",
    "\n",
    "# Check if images loaded correctly\n",
    "if fused_image is None or reference_image is None:\n",
    "    raise FileNotFoundError(\"Please check the image paths. One or both images could not be loaded.\")\n",
    "\n",
    "# Ensure both images are of the same size\n",
    "if fused_image.shape != reference_image.shape:\n",
    "    raise ValueError(\"Fused image and reference image must have the same dimensions.\")\n",
    "\n",
    "# Function to calculate MSE\n",
    "def calculate_mse(img1, img2):\n",
    "    mse = np.mean((img1 - img2) ** 2)\n",
    "    return mse\n",
    "\n",
    "# Function to calculate PSNR\n",
    "def calculate_psnr(img1, img2):\n",
    "    mse = calculate_mse(img1, img2)\n",
    "    if mse == 0:\n",
    "        return float('inf')\n",
    "    psnr = 20 * np.log10(255.0 / np.sqrt(mse))\n",
    "    return psnr\n",
    "\n",
    "# Calculate MSE and PSNR\n",
    "mse_value = calculate_mse(reference_image, fused_image)\n",
    "psnr_value = calculate_psnr(reference_image, fused_image)\n",
    "\n",
    "# Output the results\n",
    "print(f\"MSE: {mse_value}\")\n",
    "print(f\"PSNR: {psnr_value} dB\")\n",
    "\n"
   ]
  }
 ],
 "metadata": {
  "kaggle": {
   "accelerator": "none",
   "dataSources": [
    {
     "datasetId": 6075629,
     "sourceId": 9892424,
     "sourceType": "datasetVersion"
    },
    {
     "datasetId": 6075729,
     "sourceId": 9892564,
     "sourceType": "datasetVersion"
    }
   ],
   "dockerImageVersionId": 30786,
   "isGpuEnabled": false,
   "isInternetEnabled": false,
   "language": "python",
   "sourceType": "notebook"
  },
  "kernelspec": {
   "display_name": "Python 3",
   "language": "python",
   "name": "python3"
  },
  "language_info": {
   "codemirror_mode": {
    "name": "ipython",
    "version": 3
   },
   "file_extension": ".py",
   "mimetype": "text/x-python",
   "name": "python",
   "nbconvert_exporter": "python",
   "pygments_lexer": "ipython3",
   "version": "3.10.14"
  },
  "papermill": {
   "default_parameters": {},
   "duration": 4.918253,
   "end_time": "2024-11-13T14:46:19.416056",
   "environment_variables": {},
   "exception": null,
   "input_path": "__notebook__.ipynb",
   "output_path": "__notebook__.ipynb",
   "parameters": {},
   "start_time": "2024-11-13T14:46:14.497803",
   "version": "2.6.0"
  }
 },
 "nbformat": 4,
 "nbformat_minor": 5
}
